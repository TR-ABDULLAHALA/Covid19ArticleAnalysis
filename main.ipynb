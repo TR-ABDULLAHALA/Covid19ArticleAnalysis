{
 "cells": [
  {
   "cell_type": "code",
   "execution_count": null,
   "metadata": {
    "tags": [
     "outputPrepend",
     "outputPrepend"
    ]
   },
   "outputs": [],
   "source": [
    "%matplotlib inline\n",
    "import numpy as np\n",
    "import pandas as pd\n",
    "import matplotlib.pyplot as plot\n",
    "import matplotlib.cm as cm\n",
    "from sklearn.cluster import KMeans\n",
    "from sklearn.feature_extraction.text import TfidfVectorizer, CountVectorizer, ENGLISH_STOP_WORDS\n",
    "from sklearn.metrics.pairwise import cosine_similarity\n",
    "from sklearn.manifold import MDS\n",
    "\n",
    "data = pd.read_json(\"dataset.json\")\n",
    "stop_words = ENGLISH_STOP_WORDS.union([\"2019\", \"2020\", \"http\", \"https\", \"www\", \"com\", \"net\", \"org\"])\n",
    "t_v = TfidfVectorizer(stop_words=stop_words, max_df=5)\n",
    "t = t_v.fit_transform(data[\"title\"])\n",
    "a_v = TfidfVectorizer(stop_words=stop_words, max_df=5)\n",
    "a = a_v.fit_transform(data[\"abstract\"])\n",
    "r_v = TfidfVectorizer(stop_words=stop_words, max_df=5)\n",
    "r = r_v.fit_transform([item for sublist in data[\"references\"] for item in sublist])\n",
    "\n",
    "c_c = {0: \"#e7298a\", 1: \"#1b9e77\", 2: \"#7570b3\"}\n",
    "c_n = {0: \"Küme 1\", 1: \"Küme 2\", 2: \"Küme 3\"}\n",
    "\n",
    "for name in (\"t\", \"a\", \"r\"):\n",
    "    km = KMeans(n_clusters = 3, init = \"k-means++\", max_iter = 500, n_init = 1).fit(globals()[name])\n",
    "    o = km.cluster_centers_.argsort()[:, ::-1]\n",
    "    mds = MDS(n_components=2, dissimilarity=\"precomputed\", random_state=1)\n",
    "    dist = 1 - cosine_similarity(globals()[name])\n",
    "    pos = mds.fit_transform(dist)\n",
    "    xs, ys = pos[:, 0], pos[:, 1]\n",
    "    key = [x for x in data.keys() if x.startswith(name)]\n",
    "    dat = pd.DataFrame(dict(x=xs, y=ys, label=km.labels_.tolist(), title=data[key[0]] if name != \"r\" else [item for sublist in data[\"references\"] for item in sublist]))\n",
    "    fig, ax = plot.subplots(figsize=(20, 15))\n",
    "    for k, i in dat.groupby(\"label\"):\n",
    "        ax.plot(i.x, i.y, marker=\"o\", ms=15, label=c_n[k], color=c_c[k], mec=\"none\")\n",
    "        ax.set_aspect(\"auto\")\n",
    "        ax.tick_params(axis= \"x\", which=\"both\", bottom=\"off\", top=\"off\",labelbottom=\"off\")\n",
    "        ax.tick_params(axis= \"y\", which=\"both\", left=\"off\", top=\"off\", labelleft=\"off\")\n",
    "    ax.legend(numpoints=1, loc=\"upper left\", fontsize=\"medium\")\n",
    "    ax.axis(\"off\")\n",
    "\n",
    "    if name != \"r\":\n",
    "        for i in range(len(dat)):\n",
    "            title = dat.loc()[i][\"title\"]\n",
    "            title = title if len(title) < 100 else title[0:100]\n",
    "            ax.text(dat.loc()[i][\"x\"], dat.loc()[i][\"y\"], title, size=10)\n",
    "    plot.savefig(\"{}.png\".format(name), dpi=72, bbox_inches='tight')\n",
    "    plot.show()"
   ]
  }
 ],
 "metadata": {
  "language_info": {
   "codemirror_mode": {
    "name": "ipython",
    "version": 3
   },
   "file_extension": ".py",
   "mimetype": "text/x-python",
   "name": "python",
   "nbconvert_exporter": "python",
   "pygments_lexer": "ipython3",
   "version": "3.7.7-final"
  },
  "orig_nbformat": 2,
  "kernelspec": {
   "name": "python37764bit6333b3458c184443979ffa947d14a602",
   "display_name": "Python 3.7.7 64-bit"
  }
 },
 "nbformat": 4,
 "nbformat_minor": 2
}